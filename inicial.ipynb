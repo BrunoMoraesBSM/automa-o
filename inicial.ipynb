{
 "cells": [
  {
   "cell_type": "markdown",
   "metadata": {},
   "source": [
    "# Python Insights - Analisando Dados com Python\n",
    "\n",
    "### Case - Cancelamento de Clientes\n",
    "\n",
    "Você foi contratado por uma empresa com mais de 800 mil clientes para um projeto de Dados. Recentemente a empresa percebeu que da sua base total de clientes, a maioria são clientes inativos, ou seja, que já cancelaram o serviço.\n",
    "\n",
    "Precisando melhorar seus resultados ela quer conseguir entender os principais motivos desses cancelamentos e quais as ações mais eficientes para reduzir esse número.\n",
    "\n",
    "Base de dados e arquivos: https://drive.google.com/drive/folders/1uDesZePdkhiraJmiyeZ-w5tfc8XsNYFZ?usp=drive_link"
   ]
  },
  {
   "cell_type": "code",
   "execution_count": null,
   "metadata": {},
   "outputs": [],
   "source": [
    "import pandas as pd\n",
    "import seaborn as sns\n",
    "import matplotlib.pyplot as plt\n",
    "import numpy as np"
   ]
  },
  {
   "cell_type": "code",
   "execution_count": null,
   "metadata": {},
   "outputs": [
    {
     "data": {
      "text/plain": [
       "        CustomerID  idade  ... meses_ultima_interacao  cancelou\n",
       "0              2.0   30.0  ...                   17.0       1.0\n",
       "1              3.0   65.0  ...                    6.0       1.0\n",
       "2              4.0   55.0  ...                    3.0       1.0\n",
       "3              5.0   58.0  ...                   29.0       1.0\n",
       "4              6.0   23.0  ...                   20.0       1.0\n",
       "...            ...    ...  ...                    ...       ...\n",
       "881661    449995.0   42.0  ...                    8.0       0.0\n",
       "881662    449996.0   25.0  ...                    2.0       0.0\n",
       "881663    449997.0   26.0  ...                    9.0       0.0\n",
       "881664    449998.0   28.0  ...                    2.0       0.0\n",
       "881665    449999.0   31.0  ...                   21.0       0.0\n",
       "\n",
       "[881666 rows x 12 columns]\n"
      ]
     },
     "metadata": {},
     "output_type": "display_data"
    }
   ],
   "source": [
    "table = pd.read_csv('cancelamentos.csv')\n",
    "table.head()"
   ]
  },
  {
   "cell_type": "code",
   "execution_count": null,
   "metadata": {},
   "outputs": [
    {
     "data": {
      "text/plain": [
       "<class 'pandas.core.frame.DataFrame'>\n",
       "RangeIndex: 881666 entries, 0 to 881665\n",
       "Data columns (total 12 columns):\n",
       " #   Column                  Non-Null Count   Dtype  \n",
       "---  ------                  --------------   -----  \n",
       " 0   CustomerID              881664 non-null  float64\n",
       " 1   idade                   881664 non-null  float64\n",
       " 2   sexo                    881664 non-null  object \n",
       " 3   tempo_como_cliente      881663 non-null  float64\n",
       " 4   frequencia_uso          881663 non-null  float64\n",
       " 5   ligacoes_callcenter     881664 non-null  float64\n",
       " 6   dias_atraso             881664 non-null  float64\n",
       " 7   assinatura              881661 non-null  object \n",
       " 8   duracao_contrato        881663 non-null  object \n",
       " 9   total_gasto             881664 non-null  float64\n",
       " 10  meses_ultima_interacao  881664 non-null  float64\n",
       " 11  cancelou                881664 non-null  float64\n",
       "dtypes: float64(9), object(3)\n",
       "memory usage: 80.7+ MB\n"
      ]
     },
     "metadata": {},
     "output_type": "display_data"
    }
   ],
   "source": [
    "table.info()"
   ]
  },
  {
   "cell_type": "code",
   "execution_count": null,
   "metadata": {},
   "outputs": [
    {
     "data": {
      "text/plain": [
       "          CustomerID          idade  ...  meses_ultima_interacao       cancelou\n",
       "count  881664.000000  881664.000000  ...           881664.000000  881664.000000\n",
       "mean   225398.667955      39.373153  ...               14.480868       0.567107\n",
       "std    129531.845091      12.442362  ...                8.596203       0.495476\n",
       "min         2.000000      18.000000  ...                1.000000       0.000000\n",
       "25%    113621.750000      29.000000  ...                7.000000       0.000000\n",
       "50%    226125.500000      39.000000  ...               14.000000       1.000000\n",
       "75%    337739.250000      48.000000  ...               22.000000       1.000000\n",
       "max    449999.000000      65.000000  ...               30.000000       1.000000\n",
       "\n",
       "[8 rows x 9 columns]\n"
      ]
     },
     "metadata": {},
     "output_type": "display_data"
    }
   ],
   "source": [
    "table.describe()"
   ]
  },
  {
   "cell_type": "code",
   "execution_count": null,
   "metadata": {},
   "outputs": [
    {
     "data": {
      "text/plain": [
       "Axes(0.125,0.11;0.775x0.77)\n"
      ]
     },
     "metadata": {},
     "output_type": "display_data"
    }
   ],
   "source": [
    "sns.barplot(data=table, x='idade', y='cancelou')\n"
   ]
  },
  {
   "cell_type": "code",
   "execution_count": null,
   "metadata": {},
   "outputs": [
    {
     "data": {
      "text/plain": [
       "Traceback (most recent call last):\n",
       "  File \"c:\\Users\\bruno\\.vscode\\extensions\\ms-python.python-2024.22.2-win32-x64\\python_files\\python_server.py\", line 133, in exec_user_input\n",
       "    retval = callable_(user_input, user_globals)\n",
       "  File \"<string>\", line 1, in <module>\n",
       "NameError: name 'np' is not defined\n",
       "\n"
      ]
     },
     "metadata": {},
     "output_type": "display_data"
    }
   ],
   "source": [
    "numeric_cols = table.select_dtypes(include=np.number).columns.to_list()\n",
    "numeric_cols"
   ]
  },
  {
   "cell_type": "code",
   "execution_count": null,
   "metadata": {},
   "outputs": [
    {
     "data": {
      "text/plain": [
       "        CustomerID  idade  ...  meses_ultima_interacao  cancelou\n",
       "0              2.0   30.0  ...                    17.0       1.0\n",
       "1              3.0   65.0  ...                     6.0       1.0\n",
       "2              4.0   55.0  ...                     3.0       1.0\n",
       "3              5.0   58.0  ...                    29.0       1.0\n",
       "4              6.0   23.0  ...                    20.0       1.0\n",
       "...            ...    ...  ...                     ...       ...\n",
       "881661    449995.0   42.0  ...                     8.0       0.0\n",
       "881662    449996.0   25.0  ...                     2.0       0.0\n",
       "881663    449997.0   26.0  ...                     9.0       0.0\n",
       "881664    449998.0   28.0  ...                     2.0       0.0\n",
       "881665    449999.0   31.0  ...                    21.0       0.0\n",
       "\n",
       "[881666 rows x 9 columns]\n"
      ]
     },
     "metadata": {},
     "output_type": "display_data"
    }
   ],
   "source": [
    "table[numeric_cols]"
   ]
  },
  {
   "cell_type": "code",
   "execution_count": null,
   "metadata": {},
   "outputs": [
    {
     "data": {
      "text/plain": [
       "idade\n",
       "18.0    612.779431\n",
       "19.0    619.518141\n",
       "20.0    637.542254\n",
       "21.0    633.045322\n",
       "22.0    641.792459\n",
       "23.0    636.765174\n",
       "24.0    637.054581\n",
       "25.0    639.501593\n",
       "26.0    639.761727\n",
       "27.0    639.676144\n",
       "28.0    636.182456\n",
       "29.0    638.073187\n",
       "30.0    649.119965\n",
       "31.0    648.288341\n",
       "32.0    646.692437\n",
       "33.0    651.835844\n",
       "34.0    650.362484\n",
       "35.0    652.348385\n",
       "36.0    649.666792\n",
       "37.0    648.979156\n",
       "38.0    648.423079\n",
       "39.0    649.567558\n",
       "40.0    663.873108\n",
       "41.0    661.081666\n",
       "42.0    662.206683\n",
       "43.0    662.320825\n",
       "44.0    663.205812\n",
       "45.0    662.636851\n",
       "46.0    659.105353\n",
       "47.0    658.862240\n",
       "48.0    664.631511\n",
       "49.0    665.924971\n",
       "50.0    669.317376\n",
       "51.0    555.549483\n",
       "52.0    548.544450\n",
       "53.0    551.710637\n",
       "54.0    557.605130\n",
       "55.0    544.420122\n",
       "56.0    546.242686\n",
       "57.0    546.510576\n",
       "58.0    554.122332\n",
       "59.0    547.013994\n",
       "60.0    550.689002\n",
       "61.0    548.628792\n",
       "62.0    546.704720\n",
       "63.0    551.959761\n",
       "64.0    549.002455\n",
       "65.0    556.057163\n",
       "Name: total_gasto, dtype: float64\n"
      ]
     },
     "metadata": {},
     "output_type": "display_data"
    }
   ],
   "source": [
    "table.groupby(['idade'])['total_gasto'].mean()"
   ]
  }
 ],
 "metadata": {
  "kernelspec": {
   "display_name": "base",
   "language": "python",
   "name": "python3"
  },
  "language_info": {
   "codemirror_mode": {
    "name": "ipython",
    "version": 3
   },
   "file_extension": ".py",
   "mimetype": "text/x-python",
   "name": "python",
   "nbconvert_exporter": "python",
   "pygments_lexer": "ipython3",
   "version": "3.10.9"
  },
  "orig_nbformat": 4
 },
 "nbformat": 4,
 "nbformat_minor": 2
}
